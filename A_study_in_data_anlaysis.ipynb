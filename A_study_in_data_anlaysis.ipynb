{
 "cells": [
  {
   "cell_type": "code",
   "execution_count": null,
   "metadata": {},
   "outputs": [],
   "source": [
    "import familiar\n",
    "from scipy.stats import ttest_1samp, ttest_ind, chi2_contingency\n",
    "\n"
   ]
  },
  {
   "cell_type": "code",
   "execution_count": null,
   "metadata": {},
   "outputs": [],
   "source": [
    "vein_pack_lifespans =familiar.lifespans(package='vein')\n",
    "\n",
    "vein_pack_test= ttest_1samp( vein_pack_lifespans , 71)\n",
    "print(vein_pack_test)\n",
    "\n",
    "\n",
    "if vein_pack_test.pvalue < 0.05:\n",
    "  print('The Vein Pack Is Proven To Make You Live Longer!')\n",
    "else:\n",
    "  print('The Vein Pack Is Probably Good For You Somehow!')\n",
    "\n",
    "\n",
    "artery_pack_lifespans=familiar.lifespans(package='artery')\n",
    "\n",
    "\n",
    "\n",
    "package_comparison_results=ttest_ind(vein_pack_lifespans, artery_pack_lifespans)\n",
    "\n",
    "if package_comparison_results.pvalue < 0.05:\n",
    "  print('The Artery Package guarantees even stronger results!')\n",
    "else:\n",
    "  print('The Artery Package is also a great product!')\n",
    "\n",
    "iron_contigency_table= familiar.iron_counts_for_package()\n",
    "\n",
    "print(iron_contigency_table)\n",
    "\n",
    "\n",
    "\n",
    "a,iron_pvalue,b,c =chi2_contingency(iron_contigency_table)\n",
    "\n",
    "print(iron_pvalue)\n",
    "\n",
    "\n",
    "\n",
    "if iron_pvalue < 0.5 :\n",
    "  print('The Artery Package Is Proven To Make You Healthier!')\n",
    "else:\n",
    "  print(\"While We Can’t Say The Artery Package Will Help You, I Bet It’s Nice! \")"
   ]
  }
 ],
 "metadata": {
  "kernelspec": {
   "display_name": "Python 3",
   "language": "python",
   "name": "python3"
  },
  "language_info": {
   "codemirror_mode": {
    "name": "ipython",
    "version": 3
   },
   "file_extension": ".py",
   "mimetype": "text/x-python",
   "name": "python",
   "nbconvert_exporter": "python",
   "pygments_lexer": "ipython3",
   "version": "3.7.6"
  }
 },
 "nbformat": 4,
 "nbformat_minor": 4
}
